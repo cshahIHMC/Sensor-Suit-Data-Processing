{
 "cells": [
  {
   "cell_type": "code",
   "execution_count": 3,
   "id": "f75a24e1",
   "metadata": {},
   "outputs": [],
   "source": [
    "import pandas as pd\n",
    "import torch\n",
    "\n",
    "\n",
    "data_path = \"/home/cshah/workspaces/deepPhase based work/Data/Quaternion_training_data_walk_around_raw.csv\"\n",
    "    \n",
    "df = pd.read_csv(data_path)\n",
    "\n",
    "\n",
    "# Split rows (0 to 49,999)\n",
    "subset_df = df.iloc[0:50000, :]\n",
    "\n",
    "# Get first 28 columns and second 28 columns\n",
    "input_data = torch.tensor(subset_df.iloc[:, 0:28].values, dtype=torch.float32)\n",
    "target_data = torch.tensor(subset_df.iloc[:, 28:56].values, dtype=torch.float32)\n",
    "\n",
    "loc = \"/home/cshah/workspaces/deepPhase based work/Data/\"\n",
    "# Save each to its own .pt file\n",
    "input_loc = loc+\"sensor_suit_quat_raw.pt\"\n",
    "torch.save(input_data, input_loc)\n",
    "output_loc = loc+\"captury_quat.pt\"\n",
    "torch.save(target_data, output_loc)"
   ]
  }
 ],
 "metadata": {
  "kernelspec": {
   "display_name": "Python 3",
   "language": "python",
   "name": "python3"
  },
  "language_info": {
   "codemirror_mode": {
    "name": "ipython",
    "version": 3
   },
   "file_extension": ".py",
   "mimetype": "text/x-python",
   "name": "python",
   "nbconvert_exporter": "python",
   "pygments_lexer": "ipython3",
   "version": "3.10.12"
  }
 },
 "nbformat": 4,
 "nbformat_minor": 5
}
